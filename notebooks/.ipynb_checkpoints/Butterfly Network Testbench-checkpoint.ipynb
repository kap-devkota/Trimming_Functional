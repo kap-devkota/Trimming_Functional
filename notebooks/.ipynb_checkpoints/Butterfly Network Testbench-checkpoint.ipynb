{
 "cells": [
  {
   "cell_type": "code",
   "execution_count": 133,
   "metadata": {},
   "outputs": [],
   "source": [
    "import sys\n",
    "import imp\n",
    "sys.path.insert(0, '../src')"
   ]
  },
  {
   "cell_type": "code",
   "execution_count": 268,
   "metadata": {},
   "outputs": [
    {
     "ename": "IndexError",
     "evalue": "too many indices for array",
     "output_type": "error",
     "traceback": [
      "\u001b[0;31m---------------------------------------------------------------------------\u001b[0m",
      "\u001b[0;31mIndexError\u001b[0m                                Traceback (most recent call last)",
      "\u001b[0;32m<ipython-input-268-ffe5d7fc3041>\u001b[0m in \u001b[0;36m<module>\u001b[0;34m\u001b[0m\n\u001b[1;32m      8\u001b[0m \u001b[0;34m\u001b[0m\u001b[0m\n\u001b[1;32m      9\u001b[0m \u001b[0mbutterfly_adj_denoised\u001b[0m \u001b[0;34m=\u001b[0m \u001b[0mdenoise\u001b[0m\u001b[0;34m.\u001b[0m\u001b[0mnetwork_enhancement\u001b[0m\u001b[0;34m(\u001b[0m\u001b[0mbutterfly_adj\u001b[0m\u001b[0;34m)\u001b[0m\u001b[0;34m\u001b[0m\u001b[0;34m\u001b[0m\u001b[0m\n\u001b[0;32m---> 10\u001b[0;31m \u001b[0mbutterfly_adj_embedded\u001b[0m \u001b[0;34m=\u001b[0m \u001b[0mdenoise\u001b[0m\u001b[0;34m.\u001b[0m\u001b[0mcompute_X_normalized\u001b[0m\u001b[0;34m(\u001b[0m\u001b[0mbutterfly_adj\u001b[0m\u001b[0;34m,\u001b[0m \u001b[0mnp\u001b[0m\u001b[0;34m.\u001b[0m\u001b[0mdiag\u001b[0m\u001b[0;34m(\u001b[0m\u001b[0mbutterfly_adj\u001b[0m\u001b[0;34m)\u001b[0m\u001b[0;34m,\u001b[0m \u001b[0;34m-\u001b[0m\u001b[0;36m1\u001b[0m\u001b[0;34m)\u001b[0m\u001b[0;34m\u001b[0m\u001b[0;34m\u001b[0m\u001b[0m\n\u001b[0m",
      "\u001b[0;32m/cluster/kappa/90-days-archive/cowenlab/hschmi02/denoise/src/denoise.py\u001b[0m in \u001b[0;36mcompute_X_normalized\u001b[0;34m(A, D, t, lm, is_normalized)\u001b[0m\n\u001b[1;32m    111\u001b[0m \"\"\"\n\u001b[1;32m    112\u001b[0m \u001b[0;32mdef\u001b[0m \u001b[0mcompute_X_normalized\u001b[0m\u001b[0;34m(\u001b[0m\u001b[0mA\u001b[0m\u001b[0;34m,\u001b[0m \u001b[0mD\u001b[0m\u001b[0;34m,\u001b[0m \u001b[0mt\u001b[0m\u001b[0;34m,\u001b[0m \u001b[0mlm\u001b[0m \u001b[0;34m=\u001b[0m \u001b[0;36m1\u001b[0m\u001b[0;34m,\u001b[0m \u001b[0mis_normalized\u001b[0m \u001b[0;34m=\u001b[0m \u001b[0;32mTrue\u001b[0m\u001b[0;34m)\u001b[0m\u001b[0;34m:\u001b[0m\u001b[0;34m\u001b[0m\u001b[0;34m\u001b[0m\u001b[0m\n\u001b[0;32m--> 113\u001b[0;31m     \u001b[0mD_i\u001b[0m \u001b[0;34m=\u001b[0m \u001b[0mcompute_pinverse_diagonal\u001b[0m\u001b[0;34m(\u001b[0m\u001b[0mD\u001b[0m\u001b[0;34m)\u001b[0m\u001b[0;34m\u001b[0m\u001b[0;34m\u001b[0m\u001b[0m\n\u001b[0m\u001b[1;32m    114\u001b[0m     \u001b[0mP\u001b[0m \u001b[0;34m=\u001b[0m \u001b[0mnp\u001b[0m\u001b[0;34m.\u001b[0m\u001b[0mmatmul\u001b[0m\u001b[0;34m(\u001b[0m\u001b[0mD_i\u001b[0m\u001b[0;34m,\u001b[0m \u001b[0mA\u001b[0m\u001b[0;34m)\u001b[0m\u001b[0;34m\u001b[0m\u001b[0;34m\u001b[0m\u001b[0m\n\u001b[1;32m    115\u001b[0m     \u001b[0mIdentity\u001b[0m \u001b[0;34m=\u001b[0m \u001b[0mnp\u001b[0m\u001b[0;34m.\u001b[0m\u001b[0midentity\u001b[0m\u001b[0;34m(\u001b[0m\u001b[0mA\u001b[0m\u001b[0;34m.\u001b[0m\u001b[0mshape\u001b[0m\u001b[0;34m[\u001b[0m\u001b[0;36m0\u001b[0m\u001b[0;34m]\u001b[0m\u001b[0;34m)\u001b[0m\u001b[0;34m\u001b[0m\u001b[0;34m\u001b[0m\u001b[0m\n",
      "\u001b[0;32m/cluster/kappa/90-days-archive/cowenlab/hschmi02/denoise/src/denoise.py\u001b[0m in \u001b[0;36mcompute_pinverse_diagonal\u001b[0;34m(diag)\u001b[0m\n\u001b[1;32m    101\u001b[0m     \u001b[0mi_diag\u001b[0m \u001b[0;34m=\u001b[0m \u001b[0mnp\u001b[0m\u001b[0;34m.\u001b[0m\u001b[0mzeros\u001b[0m\u001b[0;34m(\u001b[0m\u001b[0;34m(\u001b[0m\u001b[0mdiag\u001b[0m\u001b[0;34m.\u001b[0m\u001b[0mshape\u001b[0m\u001b[0;34m[\u001b[0m\u001b[0;36m0\u001b[0m\u001b[0;34m]\u001b[0m\u001b[0;34m,\u001b[0m \u001b[0mdiag\u001b[0m\u001b[0;34m.\u001b[0m\u001b[0mshape\u001b[0m\u001b[0;34m[\u001b[0m\u001b[0;36m0\u001b[0m\u001b[0;34m]\u001b[0m\u001b[0;34m)\u001b[0m\u001b[0;34m)\u001b[0m\u001b[0;34m\u001b[0m\u001b[0;34m\u001b[0m\u001b[0m\n\u001b[1;32m    102\u001b[0m     \u001b[0;32mfor\u001b[0m \u001b[0mi\u001b[0m \u001b[0;32min\u001b[0m \u001b[0mrange\u001b[0m\u001b[0;34m(\u001b[0m\u001b[0mdiag\u001b[0m\u001b[0;34m.\u001b[0m\u001b[0mshape\u001b[0m\u001b[0;34m[\u001b[0m\u001b[0;36m0\u001b[0m\u001b[0;34m]\u001b[0m\u001b[0;34m)\u001b[0m\u001b[0;34m:\u001b[0m\u001b[0;34m\u001b[0m\u001b[0;34m\u001b[0m\u001b[0m\n\u001b[0;32m--> 103\u001b[0;31m         \u001b[0mdi\u001b[0m \u001b[0;34m=\u001b[0m \u001b[0mdiag\u001b[0m\u001b[0;34m[\u001b[0m\u001b[0mi\u001b[0m\u001b[0;34m,\u001b[0m \u001b[0mi\u001b[0m\u001b[0;34m]\u001b[0m\u001b[0;34m\u001b[0m\u001b[0;34m\u001b[0m\u001b[0m\n\u001b[0m\u001b[1;32m    104\u001b[0m         \u001b[0;32mif\u001b[0m \u001b[0mdi\u001b[0m \u001b[0;34m!=\u001b[0m \u001b[0;36m0.0\u001b[0m\u001b[0;34m:\u001b[0m\u001b[0;34m\u001b[0m\u001b[0;34m\u001b[0m\u001b[0m\n\u001b[1;32m    105\u001b[0m             \u001b[0mi_diag\u001b[0m\u001b[0;34m[\u001b[0m\u001b[0mi\u001b[0m\u001b[0;34m,\u001b[0m \u001b[0mi\u001b[0m\u001b[0;34m]\u001b[0m \u001b[0;34m=\u001b[0m \u001b[0;36m1\u001b[0m \u001b[0;34m/\u001b[0m \u001b[0mfloat\u001b[0m\u001b[0;34m(\u001b[0m\u001b[0mdi\u001b[0m\u001b[0;34m)\u001b[0m\u001b[0;34m\u001b[0m\u001b[0;34m\u001b[0m\u001b[0m\n",
      "\u001b[0;31mIndexError\u001b[0m: too many indices for array"
     ]
    }
   ],
   "source": [
    "import scipy.io\n",
    "import denoise\n",
    "imp.reload(denoise)\n",
    "\n",
    "butterfly_mat = scipy.io.loadmat(\"../data/ne_files/Raw_butterfly_network.mat\")\n",
    "butterfly_adj    = butterfly_mat[\"W_butterfly0\"]\n",
    "butterfly_labels = butterfly_mat[\"labels\"][0]\n",
    "\n",
    "butterfly_adj_denoised = denoise.network_enhancement(butterfly_adj)\n",
    "butterfly_adj_embedded = denoise.compute_X_normalized(butterfly_adj)"
   ]
  },
  {
   "cell_type": "code",
   "execution_count": 265,
   "metadata": {},
   "outputs": [
    {
     "data": {
      "text/plain": [
       "Text(0, 0.5, 'Identification Accuracy')"
      ]
     },
     "execution_count": 265,
     "metadata": {},
     "output_type": "execute_result"
    },
    {
     "data": {
      "image/png": "[encoded data removed]",
      "text/plain": [
       "<Figure size 432x288 with 1 Axes>"
      ]
     },
     "metadata": {
      "needs_background": "light"
     },
     "output_type": "display_data"
    }
   ],
   "source": [
    "import numpy as np\n",
    "import matplotlib.pyplot as plt\n",
    "\n",
    "\"\"\"\n",
    "Calculates the accuracy of retrieving the k most similar images\n",
    "for all images.\n",
    "\"\"\"\n",
    "def retrieval_accuracy(W, labels, k):\n",
    "    num_images = W.shape[0]\n",
    "    W = -1 * (W.copy() + np.identity(num_images))\n",
    "    closest_images = np.argsort(W)\n",
    "    \n",
    "    correctly_retrieved = np.zeros(num_images)\n",
    "    for i in range(num_images):\n",
    "        correct_label = labels[i]\n",
    "        hits = [labels[closest_images[i, j]] == correct_label for j in range(0, k)]\n",
    "        correctly_retrieved[i] = sum([1 if hit else 0 for hit in hits])\n",
    "    \n",
    "    return correctly_retrieved / float(k)\n",
    "\n",
    "MAX_RETRIEVALS = 80\n",
    "retrieval_accuracies = np.zeros(MAX_RETRIEVALS)\n",
    "retrieval_accuracies_denoised = np.zeros(MAX_RETRIEVALS)\n",
    "for i in range(1, MAX_RETRIEVALS + 1):\n",
    "    retrieval_accuracies[i - 1] = np.mean(retrieval_accuracy(butterfly_adj, butterfly_labels, i))\n",
    "    retrieval_accuracies_denoised[i - 1] = np.mean(retrieval_accuracy(butterfly_adj_denoised, butterfly_labels, i))\n",
    "\n",
    "num_retrievals = np.array(range(1, MAX_RETRIEVALS + 1))\n",
    "\n",
    "fig, ax = plt.subplots()\n",
    "ax.plot(num_retrievals, retrieval_accuracies)\n",
    "ax.plot(num_retrievals, retrieval_accuracies_denoised)\n",
    "ax.set_xlabel('Number of Retrieval')\n",
    "ax.set_ylabel('Identification Accuracy')"
   ]
  },
  {
   "cell_type": "code",
   "execution_count": 267,
   "metadata": {},
   "outputs": [
    {
     "name": "stdout",
     "output_type": "stream",
     "text": [
      "The accuracy on the raw network is 0.5165260408938313.\n",
      "The accuracy on the network enhancement denoised network is 0.7585226885645802.\n"
     ]
    }
   ],
   "source": [
    "def mean_accuracy(W, labels):\n",
    "    num_images = W.shape[0]\n",
    "    W = -1 * (W.copy() + np.identity(num_images))\n",
    "    closest_images = np.argsort(W)\n",
    "    \n",
    "    _, label_counts = np.unique(labels, return_counts=True)\n",
    "    retrieval_accuracies = np.zeros(num_images)\n",
    "    for i in range(num_images):\n",
    "        correct_label = labels[i]\n",
    "        k = label_counts[correct_label - 1]\n",
    "        hits = [labels[closest_images[i, j]] == correct_label for j in range(1, k)]\n",
    "        retrieval_accuracies[i] = sum([1 if hit else 0 for hit in hits])\n",
    "        retrieval_accuracies[i] = float(retrieval_accuracies[i]) / float(k - 1)\n",
    "    \n",
    "    return np.mean(retrieval_accuracies)\n",
    "\n",
    "accuracy_std = mean_accuracy(butterfly_adj, butterfly_labels)\n",
    "accuracy_ne  = mean_accuracy(butterfly_adj_denoised, butterfly_labels)\n",
    "\n",
    "print(f\"The accuracy on the raw network is {accuracy_std}.\")\n",
    "print(f\"The accuracy on the network enhancement denoised network is {accuracy_ne}.\")"
   ]
  },
  {
   "cell_type": "code",
   "execution_count": 198,
   "metadata": {
    "scrolled": true
   },
   "outputs": [
    {
     "name": "stdout",
     "output_type": "stream",
     "text": [
      "Nearest Neighbors Graph:\n",
      "[[0.  0.  4.  3.  0. ]\n",
      " [0.  0.  1.  1.5 0. ]\n",
      " [4.  1.  0.  0.  3. ]\n",
      " [3.  1.5 0.  0.  4. ]\n",
      " [0.  0.  3.  4.  0. ]]\n",
      "\n",
      "Transition Matrix:\n",
      "[[0.         0.1        0.4        0.3        0.2       ]\n",
      " [0.14285714 0.         0.28571429 0.42857143 0.14285714]\n",
      " [0.4        0.2        0.         0.1        0.3       ]\n",
      " [0.27272727 0.27272727 0.09090909 0.         0.36363636]\n",
      " [0.2        0.1        0.3        0.4        0.        ]]\n"
     ]
    }
   ],
   "source": [
    "import denoise\n",
    "imp.reload(denoise)\n",
    "\n",
    "W = np.array([[0, 1, 4, 3, 2],\n",
    "              [1, 0, 2, 3, 1],\n",
    "              [4, 2, 0, 1, 3],\n",
    "              [3, 3, 1, 0, 4],\n",
    "              [2, 1, 3, 4, 0]])\n",
    "\n",
    "KNN = denoise.nearest_neighbors_graph(W, 2)\n",
    "P   = denoise.transition_matrix(W)\n",
    "\n",
    "print(f\"Nearest Neighbors Graph:\\n{KNN}\")\n",
    "print()\n",
    "print(f\"Transition Matrix:\\n{P}\")"
   ]
  }
 ],
 "metadata": {
  "kernelspec": {
   "display_name": "Python 3",
   "language": "python",
   "name": "python3"
  },
  "language_info": {
   "codemirror_mode": {
    "name": "ipython",
    "version": 3
   },
   "file_extension": ".py",
   "mimetype": "text/x-python",
   "name": "python",
   "nbconvert_exporter": "python",
   "pygments_lexer": "ipython3",
   "version": "3.7.6"
  }
 },
 "nbformat": 4,
 "nbformat_minor": 4
}
