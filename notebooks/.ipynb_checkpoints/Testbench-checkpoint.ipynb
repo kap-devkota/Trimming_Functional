{
 "cells": [
  {
   "cell_type": "code",
   "execution_count": 52,
   "metadata": {},
   "outputs": [],
   "source": [
    "import sys\n",
    "import imp\n",
    "sys.path.insert(0, '../src')"
   ]
  },
  {
   "cell_type": "code",
   "execution_count": 44,
   "metadata": {
    "autoscroll": false,
    "ein.hycell": false,
    "ein.tags": "worksheet-0",
    "slideshow": {
     "slide_type": "-"
    }
   },
   "outputs": [
    {
     "name": "stdout",
     "output_type": "stream",
     "text": [
      "0.064\n",
      "0.15\n",
      "['GO:0016772', 'GO:0016740', 'GO:0016301', 'GO:0140096', 'GO:0004672', 'GO:0016773', 'GO:0004674', 'GO:0060089']\n",
      "['GO:0031090', 'GO:0098588', 'GO:0000139', 'GO:0044431']\n"
     ]
    }
   ],
   "source": [
    "import networkit as nk\n",
    "import networkio\n",
    "imp.reload(networkio)\n",
    "\n",
    "G, node_list, node_map = networkio.parse_dream_network_file(\"../data/1_ppi_string_v2.txt\")\n",
    "\n",
    "print(G.weight(node_map[\"PRKAG2\"], node_map[\"ZNF559-ZNF177\"])) # Should output 0.064\n",
    "print(G.weight(node_map[\"ARL5C\"], node_map[\"YKT6\"]))           # Should output 0.15\n",
    "\n",
    "_, proteins_to_go = main.parse_go_label_file(\"../data/human.golabels\")\n",
    "\n",
    "print(proteins_to_go[\"PRKAG2\"]) # Works as expected\n",
    "print(proteins_to_go[\"YKT6\"])   # Works as expected"
   ]
  },
  {
   "cell_type": "code",
   "execution_count": 57,
   "metadata": {},
   "outputs": [
    {
     "data": {
      "text/plain": [
       "{0: 'P3', 1: 'P1', 2: 'P1', 3: 'P3', 4: 'P3', 5: 'P4'}"
      ]
     },
     "execution_count": 57,
     "metadata": {},
     "output_type": "execute_result"
    }
   ],
   "source": [
    "import predict\n",
    "imp.reload(predict)\n",
    "\n",
    "G = nk.Graph(n=6, weighted=True)\n",
    "M = 1_000_000\n",
    "\n",
    "# Node names and labels\n",
    "A, B, C, D, E, F = range(0, 6)\n",
    "labels = {\n",
    "    A: [\"P3\"],\n",
    "    B: [\"P1\", \"P2\"],\n",
    "    E: [\"P3\", \"P4\"],\n",
    "    F: [\"P4\", \"P2\"]\n",
    "}\n",
    "labels_f = lambda n: (labels[n] if n in labels else []) \n",
    "\n",
    "G.addEdge(A, B, M)\n",
    "G.addEdge(B, C, 4)\n",
    "G.addEdge(A, C, 1)\n",
    "G.addEdge(D, A, 3)\n",
    "G.addEdge(D, C, M)\n",
    "G.addEdge(E, D, 1)\n",
    "\n",
    "fpredict.wmv(G, labels_f)"
   ]
  },
  {
   "cell_type": "code",
   "execution_count": null,
   "metadata": {},
   "outputs": [],
   "source": [
    "G, node_list, node_map = networkio.parse_dream_network_file(\"../data/1_ppi_string_v2.txt\")\n",
    "_, proteins_to_go = main.parse_go_label_file(\"../data/human.golabels\")\n",
    "\n"
   ]
  }
 ],
 "metadata": {
  "kernelspec": {
   "display_name": "Python 3",
   "language": "python",
   "name": "python3"
  },
  "language_info": {
   "codemirror_mode": {
    "name": "ipython",
    "version": 3
   },
   "file_extension": ".py",
   "mimetype": "text/x-python",
   "name": "python",
   "nbconvert_exporter": "python",
   "pygments_lexer": "ipython3",
   "version": "3.7.6"
  },
  "name": "Untitled.ipynb"
 },
 "nbformat": 4,
 "nbformat_minor": 4
}
