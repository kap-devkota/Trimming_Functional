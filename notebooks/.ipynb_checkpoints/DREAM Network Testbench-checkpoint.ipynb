{
 "cells": [
  {
   "cell_type": "code",
   "execution_count": 1,
   "metadata": {},
   "outputs": [],
   "source": [
    "import sys\n",
    "import imp\n",
    "sys.path.insert(0, '../src')"
   ]
  },
  {
   "cell_type": "code",
   "execution_count": 66,
   "metadata": {},
   "outputs": [],
   "source": [
    "from denoise.graph import io as graphio\n",
    "imp.reload(graphio)\n",
    "\n",
    "_, proteins_to_go = graphio.parse_go_label_file(\"../data/dream_files/human.golabels\")\n",
    "edgelist, node_list, node_map = graphio.parse_graph_file(\"../data/dream_files/dream_3.txt\")"
   ]
  },
  {
   "cell_type": "code",
   "execution_count": 57,
   "metadata": {},
   "outputs": [],
   "source": [
    "from denoise.graph import operations\n",
    "from denoise.algorithms.dsd import computations\n",
    "\n",
    "A = operations.densify(edgelist)\n",
    "D = computations.compute_degree_mat(A)\n",
    "X = computations.compute_X_normalized(A, D)"
   ]
  },
  {
   "cell_type": "code",
   "execution_count": 69,
   "metadata": {
    "scrolled": true
   },
   "outputs": [],
   "source": [
    "import denoise.algorithms.dsd.denoise as denoise\n",
    "imp.reload(denoise)\n",
    "\n",
    "# Rank the edges in the edgelist according to the embedding\n",
    "# and remove bottom 10 percent of edges\n",
    "ranked_edges = denoise.rank_edges(edgelist, X)\n",
    "bad_edges = ranked_edges[-int(len(ranked_edges) * 0.10):]\n",
    "\n",
    "A_denoised = A.copy()\n",
    "for (u, v, _, _) in bad_edges:\n",
    "    A_denoised[u, v] = 0\n",
    "    \n",
    "D_denoised = computations.compute_degree_mat(A_denoised)\n",
    "X_denoised = computations.compute_X_normalized(A_denoised, D_denoised)"
   ]
  },
  {
   "cell_type": "code",
   "execution_count": 71,
   "metadata": {},
   "outputs": [
    {
     "ename": "TypeError",
     "evalue": "'NoneType' object is not subscriptable",
     "output_type": "error",
     "traceback": [
      "\u001b[0;31m---------------------------------------------------------------------------\u001b[0m",
      "\u001b[0;31mTypeError\u001b[0m                                 Traceback (most recent call last)",
      "\u001b[0;32m<ipython-input-71-a587a5d467dc>\u001b[0m in \u001b[0;36m<module>\u001b[0;34m\u001b[0m\n\u001b[0;32m----> 1\u001b[0;31m \u001b[0mS\u001b[0m \u001b[0;34m=\u001b[0m \u001b[0mcomputations\u001b[0m\u001b[0;34m.\u001b[0m\u001b[0mcompute_sim_matrix\u001b[0m\u001b[0;34m(\u001b[0m\u001b[0mX\u001b[0m\u001b[0;34m)\u001b[0m\u001b[0;34m\u001b[0m\u001b[0;34m\u001b[0m\u001b[0m\n\u001b[0m\u001b[1;32m      2\u001b[0m \u001b[0mS_denoised\u001b[0m \u001b[0;34m=\u001b[0m \u001b[0mcomputations\u001b[0m\u001b[0;34m.\u001b[0m\u001b[0mcompute_sim_matrix\u001b[0m\u001b[0;34m(\u001b[0m\u001b[0mX_denoised\u001b[0m\u001b[0;34m)\u001b[0m\u001b[0;34m\u001b[0m\u001b[0;34m\u001b[0m\u001b[0m\n",
      "\u001b[0;32m~/Desktop/Trimming_Functional/src/denoise/algorithms/dsd/computations.py\u001b[0m in \u001b[0;36mcompute_sim_matrix\u001b[0;34m(embedding_mat, meth, params)\u001b[0m\n\u001b[1;32m     69\u001b[0m \u001b[0;31m# interesting and clutters the codebase.\u001b[0m\u001b[0;34m\u001b[0m\u001b[0;34m\u001b[0m\u001b[0;34m\u001b[0m\u001b[0m\n\u001b[1;32m     70\u001b[0m \u001b[0;32mdef\u001b[0m \u001b[0mcompute_embedding\u001b[0m\u001b[0;34m(\u001b[0m\u001b[0medge_list\u001b[0m\u001b[0;34m,\u001b[0m \u001b[0mlm\u001b[0m \u001b[0;34m=\u001b[0m \u001b[0;36m1\u001b[0m\u001b[0;34m)\u001b[0m\u001b[0;34m:\u001b[0m\u001b[0;34m\u001b[0m\u001b[0;34m\u001b[0m\u001b[0m\n\u001b[0;32m---> 71\u001b[0;31m     \u001b[0mA\u001b[0m     \u001b[0;34m=\u001b[0m \u001b[0mdensify\u001b[0m\u001b[0;34m(\u001b[0m\u001b[0medge_list\u001b[0m\u001b[0;34m)\u001b[0m\u001b[0;34m\u001b[0m\u001b[0;34m\u001b[0m\u001b[0m\n\u001b[0m\u001b[1;32m     72\u001b[0m     \u001b[0mD\u001b[0m     \u001b[0;34m=\u001b[0m \u001b[0mcompute_degree_mat\u001b[0m\u001b[0;34m(\u001b[0m\u001b[0mA\u001b[0m\u001b[0;34m)\u001b[0m\u001b[0;34m\u001b[0m\u001b[0;34m\u001b[0m\u001b[0m\n\u001b[1;32m     73\u001b[0m     \u001b[0mX\u001b[0m     \u001b[0;34m=\u001b[0m \u001b[0mcompute_X_normalized\u001b[0m\u001b[0;34m(\u001b[0m\u001b[0mA\u001b[0m\u001b[0;34m,\u001b[0m \u001b[0mD\u001b[0m\u001b[0;34m,\u001b[0m \u001b[0mlm\u001b[0m \u001b[0;34m=\u001b[0m \u001b[0mlm\u001b[0m\u001b[0;34m)\u001b[0m\u001b[0;34m\u001b[0m\u001b[0;34m\u001b[0m\u001b[0m\n",
      "\u001b[0;31mTypeError\u001b[0m: 'NoneType' object is not subscriptable"
     ]
    }
   ],
   "source": [
    "S = computations.compute_sim_matrix(X)\n",
    "S_denoised = computations.compute_sim_matrix(X_denoised)"
   ]
  },
  {
   "cell_type": "code",
   "execution_count": 67,
   "metadata": {},
   "outputs": [
    {
     "name": "stdout",
     "output_type": "stream",
     "text": [
      "The scores for running 2-fold cv using WMV on the original network are: [0.05994550408719346, 0.07989105764866092]\n",
      "The scores for running 2-fold cv using WMV on the denoised original network are: [0.05994550408719346, 0.07989105764866092]\n"
     ]
    }
   ],
   "source": [
    "from denoise import scoring\n",
    "from denoise import predict\n",
    "imp.reload(predict)\n",
    "imp.reload(scoring)\n",
    "\n",
    "n, _ = A.shape\n",
    "labels = {i: proteins_to_go[node_list[i]] for i in range(n)\n",
    "          if node_list[i] in proteins_to_go}\n",
    "\n",
    "def create_predictor(similarity_matrix):\n",
    "    def predictor(training_labels):\n",
    "        tlabels_f = lambda i: (training_labels[i] if i in training_labels else [])\n",
    "        return predict.wmv(similarity_matrix, tlabels_f)\n",
    "    return predictor\n",
    " \n",
    "A_scores = scoring.kfoldcv(2, labels, create_predictor(A))\n",
    "A_denoised_scores = scoring.kfoldcv(2, labels, create_predictor(A_denoised))\n",
    "\n",
    "print(f\"The scores for running 2-fold cv using WMV on the original network are: {A_scores}\")\n",
    "print(f\"The scores for running 2-fold cv using WMV on the denoised original network are: {A_scores}\")"
   ]
  },
  {
   "cell_type": "code",
   "execution_count": null,
   "metadata": {},
   "outputs": [],
   "source": []
  }
 ],
 "metadata": {
  "kernelspec": {
   "display_name": "Python 3",
   "language": "python",
   "name": "python3"
  },
  "language_info": {
   "codemirror_mode": {
    "name": "ipython",
    "version": 3
   },
   "file_extension": ".py",
   "mimetype": "text/x-python",
   "name": "python",
   "nbconvert_exporter": "python",
   "pygments_lexer": "ipython3",
   "version": "3.8.2"
  },
  "name": "Untitled.ipynb"
 },
 "nbformat": 4,
 "nbformat_minor": 4
}
