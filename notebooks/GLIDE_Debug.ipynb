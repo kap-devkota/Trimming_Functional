{
 "cells": [
  {
   "cell_type": "code",
   "execution_count": 1,
   "metadata": {},
   "outputs": [],
   "source": [
    "import sys\n",
    "sys.path.insert(0, '../')"
   ]
  },
  {
   "cell_type": "code",
   "execution_count": 2,
   "metadata": {},
   "outputs": [],
   "source": [
    "import importlib\n",
    "import denoise.algorithms.dsd.denoise as denoise\n",
    "import denoise.algorithms.dsd.computations as computations\n",
    "import denoise.graph.io as graph_io\n",
    "from   denoise.graph import operations\n",
    "from   denoise import scoring\n",
    "from   denoise import predict\n",
    "import scipy.spatial.distance as spatial"
   ]
  },
  {
   "cell_type": "code",
   "execution_count": 3,
   "metadata": {},
   "outputs": [],
   "source": [
    "params       =  {\n",
    "    \"loc\"   : \"l3\",\n",
    "    \"alpha\" : 2.0,\n",
    "    \"beta\"  : 100,\n",
    "    \"delta\" : 0.01\n",
    "}\n",
    "new_weight   = 0.05"
   ]
  },
  {
   "cell_type": "code",
   "execution_count": 4,
   "metadata": {},
   "outputs": [],
   "source": [
    "edgelist, node_list, node_map = graph_io.parse_graph_file(\"../data/test_graphs/All_Graphs/Graph1.txt\")\n",
    "A                             = operations.densify(edgelist)\n",
    "X                             = computations.compute_embedding(edgelist)\n",
    "# Protein labels\n",
    "_, proteins_to_go             = graph_io.parse_go_label_file(\"../data/dream_files/human.golabels\")\n",
    "n, _                          = A.shape\n",
    "labels                        = {i: proteins_to_go[node_list[i]] for i in range(n) if node_list[i] in proteins_to_go}"
   ]
  },
  {
   "cell_type": "code",
   "execution_count": 5,
   "metadata": {},
   "outputs": [],
   "source": [
    "dsd_ranked_edgelist             = denoise.predict_links(X)\n",
    "A_added_edges_dsd               = A.copy()\n",
    "num_added, counter              = 0, 0\n",
    "# Adding 10% edges\n",
    "while num_added < len(edgelist) * 0.10:\n",
    "    (u, v), distance            = dsd_ranked_edgelist[counter]\n",
    "    if A_added_edges_dsd[u, v] == 0:\n",
    "        A_added_edges_dsd[u, v] = new_weight\n",
    "        num_added += 1\n",
    "    counter += 1"
   ]
  },
  {
   "cell_type": "code",
   "execution_count": 6,
   "metadata": {},
   "outputs": [],
   "source": [
    "glide_ranked_edgelist         = denoise.glide_predict_links(edgelist, X, params = params)\n",
    "A_added_edges_glide           = A.copy()\n",
    "num_added, counter            = 0, 0\n",
    "while num_added < len(edgelist) * 0.10:\n",
    "    u, v, score               = glide_ranked_edgelist[counter]\n",
    "    if A_added_edges_glide[u, v] == 0:\n",
    "        A_added_edges_glide[u, v] = new_weight\n",
    "        num_added += 1\n",
    "    counter += 1"
   ]
  },
  {
   "cell_type": "code",
   "execution_count": 7,
   "metadata": {},
   "outputs": [
    {
     "name": "stdout",
     "output_type": "stream",
     "text": [
      "The scores for running 5-fold cv using WMV on the original network are: [0.047619047619047616, 0.15873015873015872, 0.12698412698412698, 0.14285714285714285, 0.125]\n",
      "The scores for running 5-fold cv using WMV on the original network with edges added by DSD: [0.047619047619047616, 0.15873015873015872, 0.12698412698412698, 0.14285714285714285, 0.125]\n",
      "The scores for running 5-fold cv using WMV on the original network with edges added by GLIDE: [0.047619047619047616, 0.15873015873015872, 0.12698412698412698, 0.14285714285714285, 0.125]\n"
     ]
    }
   ],
   "source": [
    "def create_predictor(similarity_matrix):\n",
    "    def predictor(training_labels):\n",
    "        tlabels_f = lambda i: (training_labels[i] if i in training_labels else [])\n",
    "        return predict.wmv(similarity_matrix, tlabels_f)\n",
    "    return predictor\n",
    "\n",
    "A_scores       = scoring.kfoldcv(5, labels, create_predictor(A))\n",
    "A_dsd_scores   = scoring.kfoldcv(5, labels, create_predictor(A_added_edges_dsd))\n",
    "A_glide_scores = scoring.kfoldcv(5, labels, create_predictor(A_added_edges_glide))\n",
    "\n",
    "print(f\"The scores for running 5-fold cv using WMV on the original network are: {A_scores}\")\n",
    "print(f\"The scores for running 5-fold cv using WMV on the original network with edges added by DSD: {A_dsd_scores}\")\n",
    "print(f\"The scores for running 5-fold cv using WMV on the original network with edges added by GLIDE: {A_glide_scores}\")"
   ]
  },
  {
   "cell_type": "code",
   "execution_count": 8,
   "metadata": {},
   "outputs": [],
   "source": [
    "D_added_edges_dsd = computations.compute_degree_mat(A_added_edges_dsd)\n",
    "X_added_edges_dsd = computations.compute_X_normalized(A_added_edges_dsd, D_added_edges_dsd)\n",
    "\n",
    "D_added_edges_glide = computations.compute_degree_mat(A_added_edges_glide)\n",
    "X_added_edges_glide = computations.compute_X_normalized(A_added_edges_glide, D_added_edges_glide)"
   ]
  },
  {
   "cell_type": "code",
   "execution_count": 9,
   "metadata": {},
   "outputs": [],
   "source": [
    "def create_predictor(X):\n",
    "    distances = spatial.squareform(spatial.pdist(X))\n",
    "    def predictor(training_labels):\n",
    "        tlabels_f = lambda i: (training_labels[i] if i in training_labels else [])\n",
    "        return predict.knn(distances, tlabels_f, 10)\n",
    "    return predictor\n",
    "\n",
    "X_scores = scoring.kfoldcv(5, labels, create_predictor(X))\n",
    "X_dsd_scores = scoring.kfoldcv(5, labels, create_predictor(X_added_edges_dsd))\n",
    "X_glide_scores = scoring.kfoldcv(5, labels, create_predictor(X_added_edges_glide))\n"
   ]
  },
  {
   "cell_type": "code",
   "execution_count": 10,
   "metadata": {},
   "outputs": [
    {
     "name": "stdout",
     "output_type": "stream",
     "text": [
      "Majority Vote: \n",
      "WMV on raw network: 12.023809523809522%\n",
      "WMV on DSD added edges network: 12.023809523809522%\n",
      "WMV on GLIDE added edges network: 12.023809523809522%\n",
      "\n",
      "10-Nearest Neighbors using DSD embedding:\n",
      "KNN on raw network: 6.964285714285714%\n",
      "KNN on DSD added edges network: 8.234126984126984%\n",
      "KNN on GLIDE added edges network: 7.916666666666666%\n"
     ]
    }
   ],
   "source": [
    "import numpy as np\n",
    "\n",
    "print(\"Majority Vote: \")\n",
    "print(f\"WMV on raw network: {np.mean(A_scores) * 100}%\")\n",
    "print(f\"WMV on DSD added edges network: {np.mean(A_dsd_scores) * 100}%\")\n",
    "print(f\"WMV on GLIDE added edges network: {np.mean(A_glide_scores) * 100}%\")\n",
    "\n",
    "print(\"\\n10-Nearest Neighbors using DSD embedding:\")\n",
    "print(f\"KNN on raw network: {np.mean(X_scores) * 100}%\")\n",
    "print(f\"KNN on DSD added edges network: {np.mean(X_dsd_scores) * 100}%\")\n",
    "print(f\"KNN on GLIDE added edges network: {np.mean(X_glide_scores) * 100}%\")"
   ]
  },
  {
   "cell_type": "code",
   "execution_count": null,
   "metadata": {},
   "outputs": [],
   "source": [
    "# A possible function to create a new graph with updated edges\n",
    "def create_new_graph_updated_weights(original_graph, new_edges):\n",
    "    \"\"\"\n",
    "        Function that takes in a original graph, and puts in new edges, with the weights\n",
    "        of the new_edges having a meaningful value.\n",
    "        @param original_graph : A list of form [(p, q, wt), ...], wt representing the weight of \n",
    "                                the edges (p, q).\n",
    "        @param new_edges      : A list of form [(p, q, sc),...], sc represent the score given by \n",
    "                                the link prediction algorithm.\n",
    "    \"\"\"\n",
    "    pass\n"
   ]
  }
 ],
 "metadata": {
  "kernelspec": {
   "display_name": "Python 3",
   "language": "python",
   "name": "python3"
  },
  "language_info": {
   "codemirror_mode": {
    "name": "ipython",
    "version": 3
   },
   "file_extension": ".py",
   "mimetype": "text/x-python",
   "name": "python",
   "nbconvert_exporter": "python",
   "pygments_lexer": "ipython3",
   "version": "3.8.2"
  }
 },
 "nbformat": 4,
 "nbformat_minor": 4
}
