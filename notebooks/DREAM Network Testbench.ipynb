{
 "cells": [
  {
   "cell_type": "code",
   "execution_count": 1,
   "metadata": {},
   "outputs": [],
   "source": [
    "import sys\n",
    "import imp\n",
    "sys.path.insert(0, '../src')"
   ]
  },
  {
   "cell_type": "code",
   "execution_count": 66,
   "metadata": {},
   "outputs": [],
   "source": [
    "from denoise.graph import io as graphio\n",
    "imp.reload(graphio)\n",
    "\n",
    "_, proteins_to_go = graphio.parse_go_label_file(\"../data/dream_files/human.golabels\")\n",
    "edgelist, node_list, node_map = graphio.parse_graph_file(\"../data/dream_files/dream_3.txt\")"
   ]
  },
  {
   "cell_type": "code",
   "execution_count": 57,
   "metadata": {},
   "outputs": [],
   "source": [
    "from denoise.graph import operations\n",
    "from denoise.algorithms.dsd import computations\n",
    "\n",
    "A = operations.densify(edgelist)\n",
    "D = computations.compute_degree_mat(A)\n",
    "X = computations.compute_X_normalized(A, D)"
   ]
  },
  {
   "cell_type": "code",
   "execution_count": 69,
   "metadata": {
    "scrolled": true
   },
   "outputs": [],
   "source": [
    "import denoise.algorithms.dsd.denoise as denoise\n",
    "imp.reload(denoise)\n",
    "\n",
    "# Rank the edges in the edgelist according to the embedding\n",
    "# and remove bottom 10 percent of edges\n",
    "ranked_edges = denoise.rank_edges(edgelist, X)\n",
    "bad_edges = ranked_edges[-int(len(ranked_edges) * 0.10):]\n",
    "\n",
    "A_denoised = A.copy()\n",
    "for (u, v, _, _) in bad_edges:\n",
    "    A_denoised[u, v] = 0\n",
    "    \n",
    "D_denoised = computations.compute_degree_mat(A_denoised)\n",
    "X_denoised = computations.compute_X_normalized(A_denoised, D_denoised)"
   ]
  },
  {
   "cell_type": "code",
   "execution_count": 76,
   "metadata": {},
   "outputs": [],
   "source": [
    "from denoise.algorithms.dsd import computations\n",
    "imp.reload(computations)\n",
    "\n",
    "S = computations.compute_sim_matrix(X, params={\"rbf\": 2})\n",
    "S_denoised = computations.compute_sim_matrix(X_denoised, params={\"rbf\": 2})"
   ]
  },
  {
   "cell_type": "code",
   "execution_count": 81,
   "metadata": {},
   "outputs": [
    {
     "name": "stdout",
     "output_type": "stream",
     "text": [
      "The scores for running 10-fold cv using WMV on the original network are: [0.16818181818181818, 0.18181818181818182, 0.16363636363636364, 0.125, 0.12954545454545455, 0.10227272727272728, 0.1, 0.11136363636363636, 0.12272727272727273, 0.0898876404494382]\n",
      "The scores for running 10-fold cv using WMV on the denoised original network are: [0.16818181818181818, 0.175, 0.16363636363636364, 0.12045454545454545, 0.11818181818181818, 0.1, 0.09772727272727273, 0.08863636363636364, 0.07727272727272727, 0.04943820224719101]\n",
      "The scores for running 10-fold cv using WMV on the embedded network are: [0.20227272727272727, 0.17954545454545454, 0.15227272727272728, 0.15454545454545454, 0.1318181818181818, 0.09772727272727273, 0.12045454545454545, 0.075, 0.11136363636363636, 0.0853932584269663]\n",
      "The scores for running 10-fold cv using WMV on the denoised embedded network are: [0.20227272727272727, 0.17954545454545454, 0.15227272727272728, 0.15454545454545454, 0.12954545454545455, 0.09545454545454546, 0.12272727272727273, 0.07727272727272727, 0.10909090909090909, 0.08314606741573034]\n"
     ]
    }
   ],
   "source": [
    "from denoise import scoring\n",
    "from denoise import predict\n",
    "imp.reload(predict)\n",
    "imp.reload(scoring)\n",
    "\n",
    "n, _ = A.shape\n",
    "labels = {i: proteins_to_go[node_list[i]] for i in range(n)\n",
    "          if node_list[i] in proteins_to_go}\n",
    "\n",
    "def create_predictor(similarity_matrix):\n",
    "    def predictor(training_labels):\n",
    "        tlabels_f = lambda i: (training_labels[i] if i in training_labels else [])\n",
    "        return predict.wmv(similarity_matrix, tlabels_f)\n",
    "    return predictor\n",
    " \n",
    "A_scores = scoring.kfoldcv(10, labels, create_predictor(A))\n",
    "A_denoised_scores = scoring.kfoldcv(10, labels, create_predictor(A_denoised))\n",
    "S_scores = scoring.kfoldcv(10, labels, create_predictor(S))\n",
    "S_denoised_scores = scoring.kfoldcv(10, labels, create_predictor(S_denoised))\n",
    "\n",
    "print(f\"The scores for running 10-fold cv using WMV on the original network are: {A_scores}\")\n",
    "print(f\"The scores for running 10-fold cv using WMV on the denoised original network are: {A_denoised_scores}\")\n",
    "print(f\"The scores for running 10-fold cv using WMV on the embedded network are: {S_scores}\")\n",
    "print(f\"The scores for running 10-fold cv using WMV on the denoised embedded network are: {S_denoised_scores}\")"
   ]
  },
  {
   "cell_type": "code",
   "execution_count": null,
   "metadata": {},
   "outputs": [],
   "source": []
  }
 ],
 "metadata": {
  "kernelspec": {
   "display_name": "Python 3",
   "language": "python",
   "name": "python3"
  },
  "language_info": {
   "codemirror_mode": {
    "name": "ipython",
    "version": 3
   },
   "file_extension": ".py",
   "mimetype": "text/x-python",
   "name": "python",
   "nbconvert_exporter": "python",
   "pygments_lexer": "ipython3",
   "version": "3.8.2"
  },
  "name": "Untitled.ipynb"
 },
 "nbformat": 4,
 "nbformat_minor": 4
}
