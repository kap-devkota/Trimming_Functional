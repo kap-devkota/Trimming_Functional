{
 "cells": [
  {
   "cell_type": "code",
   "execution_count": 1,
   "metadata": {},
   "outputs": [],
   "source": [
    "import sys\n",
    "import imp\n",
    "sys.path.insert(0, '../src')"
   ]
  },
  {
   "cell_type": "code",
   "execution_count": 66,
   "metadata": {},
   "outputs": [],
   "source": [
    "from denoise.graph import io as graphio\n",
    "imp.reload(graphio)\n",
    "\n",
    "_, proteins_to_go = graphio.parse_go_label_file(\"../data/dream_files/human.golabels\")\n",
    "edgelist, node_list, node_map = graphio.parse_graph_file(\"../data/dream_files/dream_3.txt\")"
   ]
  },
  {
   "cell_type": "code",
   "execution_count": 57,
   "metadata": {},
   "outputs": [],
   "source": [
    "from denoise.graph import operations\n",
    "from denoise.algorithms.dsd import computations\n",
    "imp.reload(operations)\n",
    "imp.reload(computations)\n",
    "\n",
    "A = operations.densify(edgelist)\n",
    "D = computations.compute_degree_mat(A)\n",
    "X = computations.compute_X_normalized(A, D)"
   ]
  },
  {
   "cell_type": "code",
   "execution_count": 90,
   "metadata": {},
   "outputs": [
    {
     "ename": "SyntaxError",
     "evalue": "unexpected EOF while parsing (<ipython-input-90-725d51d3cf32>, line 18)",
     "output_type": "error",
     "traceback": [
      "\u001b[0;36m  File \u001b[0;32m\"<ipython-input-90-725d51d3cf32>\"\u001b[0;36m, line \u001b[0;32m18\u001b[0m\n\u001b[0;31m    for (u, v, _\u001b[0m\n\u001b[0m                ^\u001b[0m\n\u001b[0;31mSyntaxError\u001b[0m\u001b[0;31m:\u001b[0m unexpected EOF while parsing\n"
     ]
    }
   ],
   "source": [
    "import denoise.algorithms.dsd.denoise as denoise\n",
    "imp.reload(denoise)\n",
    "\n",
    "# Useful for adding edges as well (though more computationally\n",
    "# expensive\n",
    "all_edges = denoise.predict_links(X) \n",
    "\n",
    "# Rank the edges in the edgelist according to the embedding\n",
    "# and remove bottom 10 percent of edges\n",
    "ranked_edges = denoise.rank_edges(edgelist, X)\n",
    "bad_edges = ranked_edges[-int(len(ranked_edges) * 0.5):]"
   ]
  },
  {
   "cell_type": "code",
   "execution_count": 97,
   "metadata": {},
   "outputs": [],
   "source": [
    "A_removed_edges = A.copy()\n",
    "for (u, v, _, _) in bad_edges:\n",
    "    A_removed_edges[u, v] = 0\n",
    "\n",
    "A_added_edges = A.copy()\n",
    "num_added, counter = 0, 0\n",
    "while num_added < len(edgelist) * 0.10:\n",
    "    (u, v), _ = all_edges[counter]\n",
    "    if A_added_edges[u, v] == 0:\n",
    "        A_added_edges[u, v] = 1\n",
    "        num_added += 1\n",
    "    counter += 1"
   ]
  },
  {
   "cell_type": "code",
   "execution_count": 98,
   "metadata": {},
   "outputs": [],
   "source": [
    "D_added_edges = computations.compute_degree_mat(A_added_edges)\n",
    "X_added_edges = computations.compute_X_normalized(A_added_edges, D_added_edges)\n",
    "D_removed_edges = computations.compute_degree_mat(A_removed_edges)\n",
    "X_removed_edges = computations.compute_X_normalized(A_removed_edges, D_removed_edges)"
   ]
  },
  {
   "cell_type": "code",
   "execution_count": 104,
   "metadata": {},
   "outputs": [],
   "source": [
    "from denoise.algorithms.dsd import computations\n",
    "imp.reload(computations)\n",
    "\n",
    "S = computations.compute_sim_matrix(X, params={\"rbf\": 1})\n",
    "S_removed_edges = computations.compute_sim_matrix(X_removed_edges, params={\"rbf\": 1})\n",
    "S_added_edges = computations.compute_sim_matrix(X_added_edges, params={\"rbf\": 1})"
   ]
  },
  {
   "cell_type": "code",
   "execution_count": 105,
   "metadata": {},
   "outputs": [
    {
     "name": "stdout",
     "output_type": "stream",
     "text": [
      "The scores for running 10-fold cv using WMV on the original network are: [0.13961407491486946, 0.1362088535754824, 0.11350737797956867, 0.09988649262202043, 0.09648127128263337]\n",
      "The scores for running 10-fold cv using WMV on the denoised original network are: [0.1362088535754824, 0.13280363223609534, 0.10783200908059024, 0.08740068104426787, 0.05788876276958002]\n",
      "The scores for running 10-fold cv using WMV on the embedded network are: [0.19069239500567536, 0.1532349602724177, 0.11464245175936436, 0.09761634506242906, 0.09761634506242906]\n",
      "The scores for running 10-fold cv using WMV on the denoised embedded network are: [0.19069239500567536, 0.15209988649262202, 0.11237230419977298, 0.09875141884222474, 0.09761634506242906]\n"
     ]
    }
   ],
   "source": [
    "from denoise import scoring\n",
    "from denoise import predict\n",
    "imp.reload(predict)\n",
    "imp.reload(scoring)\n",
    "\n",
    "n, _ = A.shape\n",
    "labels = {i: proteins_to_go[node_list[i]] for i in range(n)\n",
    "          if node_list[i] in proteins_to_go}\n",
    "\n",
    "def create_predictor(similarity_matrix):\n",
    "    def predictor(training_labels):\n",
    "        tlabels_f = lambda i: (training_labels[i] if i in training_labels else [])\n",
    "        return predict.wmv(similarity_matrix, tlabels_f)\n",
    "    return predictor\n",
    " \n",
    "# A_scores = scoring.kfoldcv(5, labels, create_predictor(A))\n",
    "# A_added_edges_scores = scoring.kfoldcv(5, labels, create_predictor(A_added_edges))\n",
    "# A_removed_edges_scores = scoring.kfoldcv(5, labels, create_predictor(A_removed_edges))\n",
    "S_scores = scoring.kfoldcv(5, labels, create_predictor(S))\n",
    "S_removed_edges_scores = scoring.kfoldcv(5, labels, create_predictor(S_removed_edges))\n",
    "S_added_edges_scores = scoring.kfoldcv(5, labels, create_predictor(S_added_edges))\n",
    "\n",
    "print(f\"The scores for running 10-fold cv using WMV on the original network are: {A_scores}\")\n",
    "print(f\"The scores for running 10-fold cv using WMV on the denoised original network are: {A_removed_edges_scores}\")\n",
    "print(f\"The scores for running 10-fold cv using WMV on the embedded network are: {S_scores}\")\n",
    "print(f\"The scores for running 10-fold cv using WMV on the denoised embedded network are: {S_removed_edges_scores}\")"
   ]
  },
  {
   "cell_type": "code",
   "execution_count": 106,
   "metadata": {},
   "outputs": [
    {
     "name": "stdout",
     "output_type": "stream",
     "text": [
      "11.713961407491487\n",
      "11.713961407491487\n",
      "10.442678774120317\n",
      "13.076049943246309\n",
      "13.030646992054482\n",
      "13.030646992054484\n"
     ]
    }
   ],
   "source": [
    "print(np.mean(A_scores) * 100)\n",
    "print(np.mean(A_added_edges_scores) * 100)\n",
    "print(np.mean(A_removed_edges_scores) * 100)\n",
    "print(np.mean(S_scores) * 100)\n",
    "print(np.mean(S_removed_edges_scores) * 100)\n",
    "print(np.mean(S_added_edges_scores) * 100)"
   ]
  },
  {
   "cell_type": "code",
   "execution_count": null,
   "metadata": {},
   "outputs": [],
   "source": []
  }
 ],
 "metadata": {
  "kernelspec": {
   "display_name": "Python 3",
   "language": "python",
   "name": "python3"
  },
  "language_info": {
   "codemirror_mode": {
    "name": "ipython",
    "version": 3
   },
   "file_extension": ".py",
   "mimetype": "text/x-python",
   "name": "python",
   "nbconvert_exporter": "python",
   "pygments_lexer": "ipython3",
   "version": "3.8.2"
  },
  "name": "DREAM Network Testbench.ipynb"
 },
 "nbformat": 4,
 "nbformat_minor": 4
}
